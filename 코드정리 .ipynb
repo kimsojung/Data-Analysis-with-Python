{
 "cells": [
  {
   "cell_type": "code",
   "execution_count": 2,
   "metadata": {},
   "outputs": [],
   "source": [
    "import pandas as pd \n",
    "import numpy as np"
   ]
  },
  {
   "cell_type": "markdown",
   "metadata": {},
   "source": [
    "# 모델평가 "
   ]
  },
  {
   "cell_type": "markdown",
   "metadata": {},
   "source": [
    "### 정확도 "
   ]
  },
  {
   "cell_type": "markdown",
   "metadata": {},
   "source": [
    "### AUC"
   ]
  },
  {
   "cell_type": "markdown",
   "metadata": {},
   "source": [
    "### 데이터 처리 "
   ]
  },
  {
   "cell_type": "code",
   "execution_count": null,
   "metadata": {},
   "outputs": [],
   "source": [
    "#meaning: Apply a function along an axis of the DataFrame.\n",
    "DataFrame명.apply(lambda x : x['칼럼명']들의 조건식 \n",
    "                               if x['칼럼명']들의 조건식 \n",
    "                               else (x['칼럼명']들의 조건식 또는 값), axis = 1)"
   ]
  },
  {
   "cell_type": "code",
   "execution_count": null,
   "metadata": {},
   "outputs": [],
   "source": [
    "test_df.reset_index(drop=True) #drop parameter to avoid the old index being added as a column"
   ]
  },
  {
   "cell_type": "code",
   "execution_count": null,
   "metadata": {},
   "outputs": [],
   "source": [
    "df.sort_values(by=['sequence'],inplace=True) #정렬된 상태로 다시 저장하기 : inplace=True"
   ]
  },
  {
   "cell_type": "code",
   "execution_count": null,
   "metadata": {},
   "outputs": [],
   "source": [
    "df.rename(index = {'old_nm': 'new_nm'}, inplace = True)"
   ]
  },
  {
   "cell_type": "code",
   "execution_count": null,
   "metadata": {},
   "outputs": [],
   "source": [
    "df=df.replace(0,5)"
   ]
  },
  {
   "cell_type": "code",
   "execution_count": null,
   "metadata": {},
   "outputs": [],
   "source": [
    "df=df.drop(columns=[])"
   ]
  },
  {
   "cell_type": "code",
   "execution_count": null,
   "metadata": {},
   "outputs": [],
   "source": [
    "list 끼리 이어붙이기 +"
   ]
  },
  {
   "cell_type": "code",
   "execution_count": null,
   "metadata": {},
   "outputs": [],
   "source": [
    "df=pd.concat([new_df,df])"
   ]
  },
  {
   "cell_type": "code",
   "execution_count": null,
   "metadata": {},
   "outputs": [],
   "source": [
    "#문자열 내에서 i iteration 출력 \n",
    "print(' '+i' ')"
   ]
  },
  {
   "cell_type": "markdown",
   "metadata": {},
   "source": [
    "### 산점도 "
   ]
  },
  {
   "cell_type": "code",
   "execution_count": null,
   "metadata": {},
   "outputs": [],
   "source": [
    "sns.relplot(x=\"n_year_predicted\",y=\"cancer\",data=test_df)"
   ]
  },
  {
   "cell_type": "code",
   "execution_count": null,
   "metadata": {},
   "outputs": [],
   "source": [
    "sns.regplot(x=\"total_bill\", y=\"tip\", data=tips) #회귀그래프 같이 출력됨"
   ]
  },
  {
   "cell_type": "code",
   "execution_count": null,
   "metadata": {},
   "outputs": [],
   "source": [
    "차이는 모르겠음 "
   ]
  },
  {
   "cell_type": "code",
   "execution_count": null,
   "metadata": {},
   "outputs": [],
   "source": [
    "jointplot에 나오는 person 뭔지? 유의하다 유의하지 않다 나오는지?"
   ]
  },
  {
   "cell_type": "markdown",
   "metadata": {},
   "source": [
    "### 히스토그램 밀도함수그래프 차이 "
   ]
  },
  {
   "cell_type": "code",
   "execution_count": null,
   "metadata": {},
   "outputs": [],
   "source": [
    "sns.kdeplot(x)"
   ]
  },
  {
   "cell_type": "markdown",
   "metadata": {},
   "source": [
    "### pivot, groupby "
   ]
  },
  {
   "cell_type": "markdown",
   "metadata": {},
   "source": [
    "- pivot: 데이터를 행/열 인덱스로 조회하여 펼쳐놓은것. 집계값이 없을 경우 단 하나의 데이터만 조회되어야함\n",
    "- group by: 키가 지정하는 조건에 맞는 데이터가 다수 (집계값이 필수임)"
   ]
  },
  {
   "cell_type": "markdown",
   "metadata": {},
   "source": [
    "차이: 변수 display 방식이 다름 "
   ]
  },
  {
   "cell_type": "code",
   "execution_count": 12,
   "metadata": {},
   "outputs": [
    {
     "data": {
      "text/html": [
       "<div>\n",
       "<style scoped>\n",
       "    .dataframe tbody tr th:only-of-type {\n",
       "        vertical-align: middle;\n",
       "    }\n",
       "\n",
       "    .dataframe tbody tr th {\n",
       "        vertical-align: top;\n",
       "    }\n",
       "\n",
       "    .dataframe thead th {\n",
       "        text-align: right;\n",
       "    }\n",
       "</style>\n",
       "<table border=\"1\" class=\"dataframe\">\n",
       "  <thead>\n",
       "    <tr style=\"text-align: right;\">\n",
       "      <th>b</th>\n",
       "      <th>1</th>\n",
       "      <th>2</th>\n",
       "    </tr>\n",
       "    <tr>\n",
       "      <th>a</th>\n",
       "      <th></th>\n",
       "      <th></th>\n",
       "    </tr>\n",
       "  </thead>\n",
       "  <tbody>\n",
       "    <tr>\n",
       "      <th>1</th>\n",
       "      <td>0.719744</td>\n",
       "      <td>0.164319</td>\n",
       "    </tr>\n",
       "    <tr>\n",
       "      <th>2</th>\n",
       "      <td>0.584550</td>\n",
       "      <td>0.981383</td>\n",
       "    </tr>\n",
       "    <tr>\n",
       "      <th>3</th>\n",
       "      <td>0.465415</td>\n",
       "      <td>0.876068</td>\n",
       "    </tr>\n",
       "  </tbody>\n",
       "</table>\n",
       "</div>"
      ],
      "text/plain": [
       "b         1         2\n",
       "a                    \n",
       "1  0.719744  0.164319\n",
       "2  0.584550  0.981383\n",
       "3  0.465415  0.876068"
      ]
     },
     "execution_count": 12,
     "metadata": {},
     "output_type": "execute_result"
    }
   ],
   "source": [
    "df = pd.DataFrame({\"a\": [1,2,3,1,2,3], \"b\":[1,1,1,2,2,2], \"c\":np.random.rand(6)})\n",
    "df.pivot('a','b','c') #집계기능 없음 "
   ]
  },
  {
   "cell_type": "code",
   "execution_count": 13,
   "metadata": {},
   "outputs": [
    {
     "data": {
      "text/html": [
       "<div>\n",
       "<style scoped>\n",
       "    .dataframe tbody tr th:only-of-type {\n",
       "        vertical-align: middle;\n",
       "    }\n",
       "\n",
       "    .dataframe tbody tr th {\n",
       "        vertical-align: top;\n",
       "    }\n",
       "\n",
       "    .dataframe thead tr th {\n",
       "        text-align: left;\n",
       "    }\n",
       "\n",
       "    .dataframe thead tr:last-of-type th {\n",
       "        text-align: right;\n",
       "    }\n",
       "</style>\n",
       "<table border=\"1\" class=\"dataframe\">\n",
       "  <thead>\n",
       "    <tr>\n",
       "      <th></th>\n",
       "      <th colspan=\"2\" halign=\"left\">c</th>\n",
       "    </tr>\n",
       "    <tr>\n",
       "      <th>b</th>\n",
       "      <th>1</th>\n",
       "      <th>2</th>\n",
       "    </tr>\n",
       "    <tr>\n",
       "      <th>a</th>\n",
       "      <th></th>\n",
       "      <th></th>\n",
       "    </tr>\n",
       "  </thead>\n",
       "  <tbody>\n",
       "    <tr>\n",
       "      <th>1</th>\n",
       "      <td>0.719744</td>\n",
       "      <td>0.164319</td>\n",
       "    </tr>\n",
       "    <tr>\n",
       "      <th>2</th>\n",
       "      <td>0.584550</td>\n",
       "      <td>0.981383</td>\n",
       "    </tr>\n",
       "    <tr>\n",
       "      <th>3</th>\n",
       "      <td>0.465415</td>\n",
       "      <td>0.876068</td>\n",
       "    </tr>\n",
       "  </tbody>\n",
       "</table>\n",
       "</div>"
      ],
      "text/plain": [
       "          c          \n",
       "b         1         2\n",
       "a                    \n",
       "1  0.719744  0.164319\n",
       "2  0.584550  0.981383\n",
       "3  0.465415  0.876068"
      ]
     },
     "execution_count": 13,
     "metadata": {},
     "output_type": "execute_result"
    }
   ],
   "source": [
    "pd.pivot_table(df, index=[\"a\"], columns=[\"b\"], values=[\"c\"], aggfunc=np.sum)"
   ]
  },
  {
   "cell_type": "code",
   "execution_count": 14,
   "metadata": {},
   "outputs": [
    {
     "data": {
      "text/html": [
       "<div>\n",
       "<style scoped>\n",
       "    .dataframe tbody tr th:only-of-type {\n",
       "        vertical-align: middle;\n",
       "    }\n",
       "\n",
       "    .dataframe tbody tr th {\n",
       "        vertical-align: top;\n",
       "    }\n",
       "\n",
       "    .dataframe thead tr th {\n",
       "        text-align: left;\n",
       "    }\n",
       "\n",
       "    .dataframe thead tr:last-of-type th {\n",
       "        text-align: right;\n",
       "    }\n",
       "</style>\n",
       "<table border=\"1\" class=\"dataframe\">\n",
       "  <thead>\n",
       "    <tr>\n",
       "      <th></th>\n",
       "      <th colspan=\"2\" halign=\"left\">c</th>\n",
       "    </tr>\n",
       "    <tr>\n",
       "      <th>b</th>\n",
       "      <th>1</th>\n",
       "      <th>2</th>\n",
       "    </tr>\n",
       "    <tr>\n",
       "      <th>a</th>\n",
       "      <th></th>\n",
       "      <th></th>\n",
       "    </tr>\n",
       "  </thead>\n",
       "  <tbody>\n",
       "    <tr>\n",
       "      <th>1</th>\n",
       "      <td>0.719744</td>\n",
       "      <td>0.164319</td>\n",
       "    </tr>\n",
       "    <tr>\n",
       "      <th>2</th>\n",
       "      <td>0.584550</td>\n",
       "      <td>0.981383</td>\n",
       "    </tr>\n",
       "    <tr>\n",
       "      <th>3</th>\n",
       "      <td>0.465415</td>\n",
       "      <td>0.876068</td>\n",
       "    </tr>\n",
       "  </tbody>\n",
       "</table>\n",
       "</div>"
      ],
      "text/plain": [
       "          c          \n",
       "b         1         2\n",
       "a                    \n",
       "1  0.719744  0.164319\n",
       "2  0.584550  0.981383\n",
       "3  0.465415  0.876068"
      ]
     },
     "execution_count": 14,
     "metadata": {},
     "output_type": "execute_result"
    }
   ],
   "source": [
    "#상단 코드와 동일한 역할을 함 \n",
    "df.set_index(['a','b']).unstack()"
   ]
  },
  {
   "cell_type": "code",
   "execution_count": 5,
   "metadata": {},
   "outputs": [
    {
     "data": {
      "text/plain": [
       "a  b\n",
       "1  1    0.251266\n",
       "   2    0.363952\n",
       "2  1    0.725588\n",
       "   2    0.980704\n",
       "3  1    0.346053\n",
       "   2    0.481226\n",
       "Name: c, dtype: float64"
      ]
     },
     "metadata": {},
     "output_type": "display_data"
    }
   ],
   "source": [
    "df.groupby(['a','b'])['c'].sum()"
   ]
  },
  {
   "cell_type": "markdown",
   "metadata": {},
   "source": [
    "### concat "
   ]
  },
  {
   "cell_type": "code",
   "execution_count": null,
   "metadata": {},
   "outputs": [],
   "source": [
    "pd.concat([df1, df2], axis=1) #가로 방향으로 concat "
   ]
  },
  {
   "cell_type": "markdown",
   "metadata": {},
   "source": [
    "### merge"
   ]
  },
  {
   "cell_type": "code",
   "execution_count": null,
   "metadata": {},
   "outputs": [],
   "source": [
    "df=pd.merge(df,age_df,how='left',on='pid')"
   ]
  },
  {
   "cell_type": "markdown",
   "metadata": {},
   "source": [
    "## 통계검정 "
   ]
  },
  {
   "cell_type": "markdown",
   "metadata": {},
   "source": [
    "### 1. t-test "
   ]
  },
  {
   "cell_type": "markdown",
   "metadata": {},
   "source": [
    "1. 단일표본 검정(one-sample t-test)\n",
    "정규분포의 표본에 대해 기대값을 조사하는 검정방법 \n",
    "2. 독립표본 t검정(independent two sample t-test)\n",
    "두 개의 독립적인 정규분포에서 나온 N1,N2개의 데이터 셋을 사용하여 두 정규분포의 기댓값이 동일한지를 검사\n",
    "3. 대응표본 t검정(Paired-two-sample t-test)\n",
    "독립표본 t검정을 두 집단의 표본이 1대1 대응하는 경우에 대해 수정한 것\n",
    "\n",
    "조건 \n",
    "1. 표본의 독립성: data is collected from a representative, randomly selected portion of the total population.\n",
    "2. 수집된 데이터가 정규분포를 따라야함: data, when plotted, results in a normal distribution, bell-shaped distribution curve. When a normal distribution is assumed, one can specify a level of probability (alpha level, level of significance, p) as a criterion for acceptance. \n",
    "\n",
    "3. 등분산성: 두 정규분포의 분산 모수가 같은지 확인)\n",
    "bartlett, fligner, levene\n",
    " \n"
   ]
  },
  {
   "cell_type": "code",
   "execution_count": null,
   "metadata": {},
   "outputs": [],
   "source": [
    "sp.stats.bartlett(x1, x2)"
   ]
  },
  {
   "cell_type": "code",
   "execution_count": null,
   "metadata": {},
   "outputs": [],
   "source": [
    "sp.stats.fligner(x1, x2)"
   ]
  },
  {
   "cell_type": "code",
   "execution_count": null,
   "metadata": {},
   "outputs": [],
   "source": [
    "sp.stats.levene(x1, x2)"
   ]
  },
  {
   "cell_type": "code",
   "execution_count": null,
   "metadata": {},
   "outputs": [],
   "source": [
    "scipy.stats.ttest_inds(a, b, equal_var=True) #equal_var=True는 분산이 같을 경우"
   ]
  },
  {
   "cell_type": "markdown",
   "metadata": {},
   "source": [
    "### 2. 카이제곱테스트 "
   ]
  },
  {
   "cell_type": "code",
   "execution_count": null,
   "metadata": {},
   "outputs": [],
   "source": [
    "그룹간에 차이가 있는지의 여부(=그룹끼리 독립이 아닌지의 여부)에 대해 Chisquare분포를 사용해 가설검정을 하는 방법\n",
    "\n",
    "1. goodness of fit test (적합도 검정)\n",
    "2. test of homogeneity (동질성 검정)\n",
    "3. test of independence (독립성 검정)"
   ]
  },
  {
   "cell_type": "markdown",
   "metadata": {},
   "source": [
    "## 3. 생존분석 "
   ]
  },
  {
   "cell_type": "markdown",
   "metadata": {},
   "source": [
    "### 3.1 카플란마이어 "
   ]
  },
  {
   "cell_type": "markdown",
   "metadata": {},
   "source": [
    "censoring이 있는 데이터에서 생존함수를 추정하는 비모수적 방법. \n",
    "추저관찰일 순으로 데이터 배열후, 구간생존률(p(t))=(해당 시점에 생존인원 수)/(전체 N) 에 이전 구간생존률(p(t-1))를 곱함. 이전 구간생존률을 곱하는것은 right censored 데이터가 이전 시점까지 관찰되었다는 정보를 활용하기 위함임.  "
   ]
  },
  {
   "cell_type": "markdown",
   "metadata": {},
   "source": [
    "* 그래프 끝이 0으로 내려가지 않는 이유: 마지막 event가 censored여서.대부분이 살았다고 볼수 있음 "
   ]
  },
  {
   "cell_type": "markdown",
   "metadata": {},
   "source": [
    "[참고] https://dermabae.tistory.com/180\n",
    "[참고] https://3months.tistory.com/349\n",
    "[참고] https://hyperconnect.github.io/2019/07/16/survival-analysis-part1.html"
   ]
  },
  {
   "cell_type": "markdown",
   "metadata": {},
   "source": [
    "### 3.2 log rank test "
   ]
  },
  {
   "cell_type": "code",
   "execution_count": null,
   "metadata": {},
   "outputs": [],
   "source": [
    "fit = survfit(Surv(dat2_test$end_date,dat2_test$cancer)~dat2_test$category)\n",
    "\n",
    "plot(fit, ylab=\"Survival\", xlab=\"Days\", col=c(\"red\",\"blue\",\"yellow\",\"green\",\"purple\"), mark.time=T)\n",
    "legend(\"topright\", legend=levels(dat2_test$category), col=c(\"red\",\"blue\",\"yellow\",\"green\",\"purple\"),fill=c(\"red\",\"blue\",\"yellow\",\"green\",\"purple\"))"
   ]
  },
  {
   "cell_type": "markdown",
   "metadata": {},
   "source": [
    "### 3.3 cox proportional hazard "
   ]
  },
  {
   "cell_type": "markdown",
   "metadata": {},
   "source": [
    "coefficient가 발산하는 이유(Loglik converged before variable) \n",
    ": 경고 문구를 크게 신경쓰지 않아도 되나 5이상은 x. \n",
    "변수와 암발병 여부간 교차표를 보고 0인 부분이 있는지 살펴봐야함 \n",
    "\n",
    "[참고] https://stackoverflow.com/questions/19369314/r-coxph-warning-loglik-converged-before-variable\n",
    "[참고] https://stat.ethz.ch/pipermail/r-help/2008-September/174201.html\n",
    "\n",
    "p-value 의미\n",
    "[참고] https://community.rstudio.com/t/p-value-of-cox-regression-model-in-survival-package-coxph/26658\n",
    "[참고] http://www.sthda.com/english/wiki/cox-proportional-hazards-model"
   ]
  },
  {
   "cell_type": "markdown",
   "metadata": {},
   "source": [
    "### 3.4 random survival forest "
   ]
  },
  {
   "cell_type": "markdown",
   "metadata": {},
   "source": [
    "OOB로 여러 트리를 구성한다는 점엣 랜덤 포레스트와 동일.차이점은 각 노드 끝마디별로 Nelson–Aalen 누적위험함수를 그리고, 트리별 위험함수의 평균을 낸다는 점.\n",
    "\n",
    "* 위험함수:특정 시간 t에 고객이 이탈할 확률. 즉, 대상이 t까지 잔존한 상태에서 t 시점에 이탈할 확률. \n",
    "* 누적위험함수:  위험함수를 0부터 t까지 적분한 것입니다. 즉, t 시점 전까지 고객이 이탈 발생할 확률을 모두 더한 것\n",
    "* 평균 내기위해 묶어지는 나무 기준?"
   ]
  },
  {
   "cell_type": "markdown",
   "metadata": {},
   "source": [
    "[참고] randomsurvivalforest 원문 https://projecteuclid.org/download/pdfview_1/euclid.aoas/1223908043\n",
    "[참고] randomsurvivalforest 한글버전 \n",
    "https://ir.ymlib.yonsei.ac.kr/bitstream/22282913/154850/1/T014313.pdf"
   ]
  }
 ],
 "metadata": {
  "kernelspec": {
   "display_name": "Python 3",
   "language": "python",
   "name": "python3"
  },
  "language_info": {
   "codemirror_mode": {
    "name": "ipython",
    "version": 3
   },
   "file_extension": ".py",
   "mimetype": "text/x-python",
   "name": "python",
   "nbconvert_exporter": "python",
   "pygments_lexer": "ipython3",
   "version": "3.7.3"
  }
 },
 "nbformat": 4,
 "nbformat_minor": 2
}
